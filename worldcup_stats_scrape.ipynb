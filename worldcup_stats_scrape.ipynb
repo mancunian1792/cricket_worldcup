{
 "cells": [
  {
   "cell_type": "code",
   "execution_count": 5,
   "metadata": {},
   "outputs": [],
   "source": [
    "from bs4 import BeautifulSoup\n",
    "import requests\n",
    "from itertools import chain\n",
    "import pandas as pd\n",
    "from tqdm import tqdm_notebook"
   ]
  },
  {
   "cell_type": "code",
   "execution_count": 3,
   "metadata": {},
   "outputs": [],
   "source": [
    "def create_link(year):\n",
    "    return f\"https://stats.espncricinfo.com/ci/engine/records/team/match_results.html?id={year};trophy=89;type=season\""
   ]
  },
  {
   "cell_type": "code",
   "execution_count": 7,
   "metadata": {},
   "outputs": [],
   "source": [
    "links = [create_link(yr) for yr in [\"2007/08\", \"2009\", \"2010\", \"2012/13\", \"2013/14\", \"2015/16\"]]"
   ]
  },
  {
   "cell_type": "code",
   "execution_count": 15,
   "metadata": {},
   "outputs": [],
   "source": [
    "\n",
    "country_id = {\n",
    "    \"6\": \"India\",\n",
    "    \"26\": \"Kenya\",\n",
    "    \"2\": \"Australia\",\n",
    "    \"25\": \"Bangladesh\",\n",
    "    \"1\": \"England\",\n",
    "    \"29\": \"Ireland\",\n",
    "    \"15\": \"Netherlands\",\n",
    "    \"5\": \"NewZealand\",\n",
    "    \"7\": \"Pakistan\",\n",
    "    \"30\": \"Scotland\",\n",
    "    \"3\": \"SouthAfrica\",\n",
    "    \"8\": \"SriLanka\",\n",
    "    \"4\": \"WestIndies\",\n",
    "    \"9\": \"Zimbabwe\",\n",
    "    \"17\": \"Canada\"\n",
    "    \n",
    "    \n",
    "}"
   ]
  },
  {
   "cell_type": "code",
   "execution_count": 16,
   "metadata": {},
   "outputs": [],
   "source": [
    "country_links = [\n",
    "    \"https://stats.espncricinfo.com/ci/engine/records/averages/[replace].html?id=12;team=6;type=trophy\",\n",
    "    \"https://stats.espncricinfo.com/ci/engine/records/averages/[replace].html?id=12;team=26;type=trophy\",\n",
    "    \"https://stats.espncricinfo.com/ci/engine/records/averages/[replace].html?id=12;team=2;type=trophy\",\n",
    "    \"https://stats.espncricinfo.com/ci/engine/records/averages/[replace].html?id=12;team=25;type=trophy\",\n",
    "    \"https://stats.espncricinfo.com/ci/engine/records/averages/[replace].html?id=12;team=1;type=trophy\",\n",
    "    \"https://stats.espncricinfo.com/ci/engine/records/averages/[replace].html?id=12;team=29;type=trophy\",\n",
    "    \"https://stats.espncricinfo.com/ci/engine/records/averages/[replace].html?id=12;team=15;type=trophy\",\n",
    "    \"https://stats.espncricinfo.com/ci/engine/records/averages/[replace].html?id=12;team=5;type=trophy\",\n",
    "    \"https://stats.espncricinfo.com/ci/engine/records/averages/[replace].html?id=12;team=7;type=trophy\",\n",
    "    \"https://stats.espncricinfo.com/ci/engine/records/averages/[replace].html?id=12;team=30;type=trophy\",\n",
    "    \"https://stats.espncricinfo.com/ci/engine/records/averages/[replace].html?id=12;team=3;type=trophy\",\n",
    "    \"https://stats.espncricinfo.com/ci/engine/records/averages/[replace].html?id=12;team=8;type=trophy\",\n",
    "    \"https://stats.espncricinfo.com/ci/engine/records/averages/[replace].html?id=12;team=4;type=trophy\",\n",
    "    \"https://stats.espncricinfo.com/ci/engine/records/averages/[replace].html?id=12;team=9;type=trophy\",\n",
    "    \"https://stats.espncricinfo.com/ci/engine/records/averages/[replace].html?id=12;team=17;type=trophy\"  \n",
    "\n",
    "]"
   ]
  },
  {
   "cell_type": "code",
   "execution_count": 17,
   "metadata": {},
   "outputs": [],
   "source": [
    "def scrape_page(url, country):\n",
    "    page = requests.get(url)\n",
    "    soup = BeautifulSoup(page.content, 'html.parser')\n",
    "    table = soup.find_all(\"table\", {\"class\":\"engineTable\"})[0]\n",
    "    columns = [col.text.strip() for col in soup.find(\"tr\", {\"class\": \"head\"}).find_all(\"th\")]\n",
    "    all_rows = []\n",
    "    for row in table.find_all(\"tr\")[1:]:\n",
    "        elements = [el.text for el in row.find_all(\"td\")]\n",
    "        all_rows.append(elements)\n",
    "    df = pd.DataFrame(all_rows, columns=columns)\n",
    "    df[\"country\"] = country_id[country]\n",
    "    return df"
   ]
  },
  {
   "cell_type": "code",
   "execution_count": 18,
   "metadata": {},
   "outputs": [],
   "source": [
    "def scrape_stats(stat_type):\n",
    "    links = [link.replace(\"[replace]\", stat_type) for link in country_links]\n",
    "    all_df = []\n",
    "    for link in tqdm_notebook(links):\n",
    "        c_id = link.split(\"?\")[1].split(\";\")[1].split(\"=\")[1]\n",
    "        all_df.append(scrape_page(link, c_id))\n",
    "    return pd.concat(all_df)"
   ]
  },
  {
   "cell_type": "code",
   "execution_count": 19,
   "metadata": {},
   "outputs": [
    {
     "name": "stderr",
     "output_type": "stream",
     "text": [
      "/home/mancunian92/anaconda3/lib/python3.6/site-packages/ipykernel_launcher.py:4: TqdmDeprecationWarning: This function will be removed in tqdm==5.0.0\n",
      "Please use `tqdm.notebook.tqdm` instead of `tqdm.tqdm_notebook`\n",
      "  after removing the cwd from sys.path.\n"
     ]
    },
    {
     "data": {
      "application/vnd.jupyter.widget-view+json": {
       "model_id": "8da781c2adf34803a0974fa0280bd90b",
       "version_major": 2,
       "version_minor": 0
      },
      "text/html": [
       "<p>Failed to display Jupyter Widget of type <code>HBox</code>.</p>\n",
       "<p>\n",
       "  If you're reading this message in the Jupyter Notebook or JupyterLab Notebook, it may mean\n",
       "  that the widgets JavaScript is still loading. If this message persists, it\n",
       "  likely means that the widgets JavaScript library is either not installed or\n",
       "  not enabled. See the <a href=\"https://ipywidgets.readthedocs.io/en/stable/user_install.html\">Jupyter\n",
       "  Widgets Documentation</a> for setup instructions.\n",
       "</p>\n",
       "<p>\n",
       "  If you're reading this message in another frontend (for example, a static\n",
       "  rendering on GitHub or <a href=\"https://nbviewer.jupyter.org/\">NBViewer</a>),\n",
       "  it may mean that your frontend doesn't currently support widgets.\n",
       "</p>\n"
      ],
      "text/plain": [
       "HBox(children=(FloatProgress(value=0.0, max=15.0), HTML(value='')))"
      ]
     },
     "metadata": {},
     "output_type": "display_data"
    },
    {
     "name": "stdout",
     "output_type": "stream",
     "text": [
      "\n"
     ]
    }
   ],
   "source": [
    "batting_df = scrape_stats(\"batting\")"
   ]
  },
  {
   "cell_type": "code",
   "execution_count": 20,
   "metadata": {},
   "outputs": [
    {
     "name": "stderr",
     "output_type": "stream",
     "text": [
      "/home/mancunian92/anaconda3/lib/python3.6/site-packages/ipykernel_launcher.py:4: TqdmDeprecationWarning: This function will be removed in tqdm==5.0.0\n",
      "Please use `tqdm.notebook.tqdm` instead of `tqdm.tqdm_notebook`\n",
      "  after removing the cwd from sys.path.\n"
     ]
    },
    {
     "data": {
      "application/vnd.jupyter.widget-view+json": {
       "model_id": "92e80eed5c8146fd825b3df38b1be1e7",
       "version_major": 2,
       "version_minor": 0
      },
      "text/html": [
       "<p>Failed to display Jupyter Widget of type <code>HBox</code>.</p>\n",
       "<p>\n",
       "  If you're reading this message in the Jupyter Notebook or JupyterLab Notebook, it may mean\n",
       "  that the widgets JavaScript is still loading. If this message persists, it\n",
       "  likely means that the widgets JavaScript library is either not installed or\n",
       "  not enabled. See the <a href=\"https://ipywidgets.readthedocs.io/en/stable/user_install.html\">Jupyter\n",
       "  Widgets Documentation</a> for setup instructions.\n",
       "</p>\n",
       "<p>\n",
       "  If you're reading this message in another frontend (for example, a static\n",
       "  rendering on GitHub or <a href=\"https://nbviewer.jupyter.org/\">NBViewer</a>),\n",
       "  it may mean that your frontend doesn't currently support widgets.\n",
       "</p>\n"
      ],
      "text/plain": [
       "HBox(children=(FloatProgress(value=0.0, max=15.0), HTML(value='')))"
      ]
     },
     "metadata": {},
     "output_type": "display_data"
    },
    {
     "name": "stdout",
     "output_type": "stream",
     "text": [
      "\n"
     ]
    }
   ],
   "source": [
    "bowling_df = scrape_stats(\"bowling\")"
   ]
  },
  {
   "cell_type": "code",
   "execution_count": 21,
   "metadata": {},
   "outputs": [],
   "source": [
    "batting_df.to_csv(\"./worldcup_data/all_players_batting_stats.csv\", index=False)\n",
    "bowling_df.to_csv(\"./worldcup_data/all_players_bowling_stats.csv\", index=False)"
   ]
  },
  {
   "cell_type": "code",
   "execution_count": null,
   "metadata": {},
   "outputs": [],
   "source": [
    "## Individual records\n"
   ]
  }
 ],
 "metadata": {
  "kernelspec": {
   "display_name": "Python 3",
   "language": "python",
   "name": "python3"
  },
  "language_info": {
   "codemirror_mode": {
    "name": "ipython",
    "version": 3
   },
   "file_extension": ".py",
   "mimetype": "text/x-python",
   "name": "python",
   "nbconvert_exporter": "python",
   "pygments_lexer": "ipython3",
   "version": "3.6.10"
  }
 },
 "nbformat": 4,
 "nbformat_minor": 2
}
